{
 "cells": [
  {
   "cell_type": "code",
   "execution_count": 44,
   "metadata": {},
   "outputs": [],
   "source": [
    "import datetime\n",
    "from bs4 import BeautifulSoup\n",
    "import urllib.request\n",
    "import csv\n",
    "import re"
   ]
  },
  {
   "cell_type": "code",
   "execution_count": 46,
   "metadata": {
    "scrolled": true
   },
   "outputs": [
    {
     "name": "stdout",
     "output_type": "stream",
     "text": [
      "1 \n",
      "연극 〈살아있는 자를 수선하기〉\n",
      "\n",
      "2 \n",
      "연극 `완벽한 타인`\n",
      "\n",
      "3 \n",
      "연극 〈쉬어매드니스〉\n",
      "\n",
      "4 \n",
      "10년 연속 1위 연극〈옥탑방고양이〉- 틴틴홀\n",
      "\n",
      "5 \n",
      "한뼘사이\n",
      "\n",
      "6 \n",
      "2021 연극 〈렁스〉\n",
      "\n",
      "7 \n",
      "국민 코믹 연극 〈오백에 삼십〉 - 대학로 아트포레스트 1관\n",
      "\n",
      "8 \n",
      "연극 〈일리아드〉\n",
      "\n",
      "9 \n",
      "연극 〈늘근도둑이야기〉\n",
      "\n",
      "10 \n",
      "연극 〈존경하는 엘레나 선생님〉 Live Stage\n",
      "\n"
     ]
    }
   ],
   "source": [
    "webpage = urllib.request.urlopen('http://ticket.interpark.com/TPGoodsList.asp?Ca=Dra&Sort=3')\n",
    "toptenlist = []\n",
    "urllist=[]\n",
    "Rank =10\n",
    "soup = BeautifulSoup(webpage, 'html.parser')\n",
    "for topten in soup.find_all('span',\"fw_bold\"):\n",
    "    toptenlist.append(topten.get_text())\n",
    "soup.find_all('a', href=re.compile('http:/Ticket/Goods/GoodsInfo.asp?GroupCode='))\n",
    "for elem in soup.find_all('a', href=re.compile('http:/Ticket/Goods/GoodsInfo.asp?GroupCode=')):\n",
    "    print (elem['href'])\n",
    "f = open('연극.csv','w',newline='')\n",
    "for i in range(Rank):\n",
    "    print(i+1, toptenlist[i])\n",
    "    wr = csv.writer(f)\n",
    "    wr.writerow([toptenlist[i]])\n",
    "f.close()"
   ]
  },
  {
   "cell_type": "code",
   "execution_count": 5,
   "metadata": {},
   "outputs": [
    {
     "name": "stdout",
     "output_type": "stream",
     "text": [
      "1 \n",
      "라포엠 첫 번째 단독 콘서트 〈SCENE#1〉 - 서울\n",
      "\n",
      "2 \n",
      "라포엠 첫 번째 단독 콘서트 〈SCENE#1〉 - 성남\n",
      "\n",
      "3 \n",
      "라포엠 첫 번째 단독 콘서트〈SCENE#1〉 - 청주\n",
      "\n",
      "4 \n",
      "라포엠 첫 번째 단독 콘서트〈SCENE#1〉 - 수원\n",
      "\n",
      "5 \n",
      "라비던스 Meets the 오케스트라(3시)\n",
      "\n",
      "6 \n",
      "라비던스 Meets the 오케스트라(7시30분)\n",
      "\n",
      "7 \n",
      "드미트리 쉬시킨 피아노 리사이틀 with 또모\n",
      "\n",
      "8 \n",
      "KBS교향악단 제769회 정기연주회\n",
      "\n",
      "9 \n",
      "팬텀 카니발 2021: Beyond Crossover\n",
      "\n",
      "10 \n",
      "신세계와 함께하는 2021 예술의전당 토요콘서트(7월)\n",
      "\n"
     ]
    }
   ],
   "source": [
    "webpage2 = urllib.request.urlopen('http://ticket.interpark.com/TPGoodsList.asp?Ca=Cla&SubCa=ClassicMain&Sort=2')\n",
    "toptenlist = []\n",
    "Rank =10\n",
    "soup = BeautifulSoup(webpage2, 'html.parser')\n",
    "for topten in soup.find_all('span',\"fw_bold\"):\n",
    "    toptenlist.append(topten.get_text())\n",
    "\n",
    "f = open('클래식.csv','w',newline='')\n",
    "for i in range(Rank):\n",
    "    print(i+1, toptenlist[i])\n",
    "    wr = csv.writer(f)\n",
    "    wr.writerow([toptenlist[i]])\n",
    "f.close()"
   ]
  },
  {
   "cell_type": "code",
   "execution_count": 6,
   "metadata": {},
   "outputs": [
    {
     "name": "stdout",
     "output_type": "stream",
     "text": [
      "1 \n",
      "2021 아람누리 오페라 콘서트 시리즈Ⅱ - 고양\n",
      "\n",
      "2 \n",
      "2021 아람누리 오페라 콘서트 시리즈Ⅲ\n",
      "\n",
      "3 \n",
      "2021 아람누리 오페라 콘서트 시리즈Ⅳ\n",
      "\n",
      "4 \n",
      "공감오페라 〈코지판투테〉 - 부산\n",
      "\n",
      "5 \n",
      "국립오페라단 〈서부의 아가씨〉\n",
      "\n",
      "6 \n",
      "국립오페라단 오페라 ‘라 트라비아타’ - 경기 광주\n",
      "\n",
      "7 \n",
      "국립오페라단 오페라 〈라 트라비아타〉\n",
      "\n",
      "8 \n",
      "나는 이중섭이다 - 대전\n",
      "\n",
      "9 \n",
      "라보엠\n",
      "\n",
      "10 \n",
      "세계4대오페라 갈라콘서트 ‘The Emotion’\n",
      "\n"
     ]
    }
   ],
   "source": [
    "webpage3 = urllib.request.urlopen('http://ticket.interpark.com/TPGoodsList.asp?Ca=Cla&SubCa=OPERA&Sort=3')\n",
    "toptenlist = []\n",
    "Rank =10\n",
    "soup = BeautifulSoup(webpage3, 'html.parser')\n",
    "for topten in soup.find_all('span',\"fw_bold\"):\n",
    "    toptenlist.append(topten.get_text())\n",
    "\n",
    "f = open('오페라.csv','w',newline='')\n",
    "for i in range(Rank):\n",
    "    print(i+1, toptenlist[i])\n",
    "    wr = csv.writer(f)\n",
    "    wr.writerow([toptenlist[i]])\n",
    "f.close()"
   ]
  },
  {
   "cell_type": "code",
   "execution_count": 8,
   "metadata": {},
   "outputs": [
    {
     "name": "stdout",
     "output_type": "stream",
     "text": [
      "1 \n",
      "［2021 발레축제］제18회 한국을 빛내는 해외무용스타 스페셜 갈라\n",
      "\n",
      "2 \n",
      "［2021발레축제］광주시립발레단/와이즈발레단/조주현댄스컴퍼니\n",
      "\n",
      "3 \n",
      "［2021발레축제］유회웅리버티홀/Soojinchoidance\n",
      "\n",
      "4 \n",
      "［2021발레축제］정형일 Ballet Creative/다크서클즈 컨템포러리 댄스\n",
      "\n",
      "5 \n",
      "［강남문화재단］ 서울발레시어터의 발레로 들려주는 〈잠자는 숲속의 미녀〉\n",
      "\n",
      "6 \n",
      "2021 공연자협동조합 신 상반기 정기발표 신명을 뿌리는 판\n",
      "\n",
      "7 \n",
      "2021 발레스타즈:Ballet Stars - 수원\n",
      "\n",
      "8 \n",
      "2021 영화의전당 마티네콘서트 - 시네마 뮤직 파라다이스 6월\n",
      "\n",
      "9 \n",
      "2021 제1회 두레라움 댄싱영화축제 - 부산\n",
      "\n",
      "10 \n",
      "2021원로예술인지원사업 기획공연 면벽〈面壁〉\n",
      "\n"
     ]
    }
   ],
   "source": [
    "webpage4 = urllib.request.urlopen('http://ticket.interpark.com/TPGoodsList.asp?Ca=Cla&SubCa=DANCE&Sort=3')\n",
    "toptenlist = []\n",
    "Rank =10\n",
    "soup = BeautifulSoup(webpage4, 'html.parser')\n",
    "for topten in soup.find_all('span',\"fw_bold\"):\n",
    "    toptenlist.append(topten.get_text())\n",
    "\n",
    "f = open('발레,무용.csv','w',newline='')\n",
    "for i in range(Rank):\n",
    "    print(i+1, toptenlist[i])\n",
    "    wr = csv.writer(f)\n",
    "    wr.writerow([toptenlist[i]])\n",
    "f.close()"
   ]
  },
  {
   "cell_type": "code",
   "execution_count": 9,
   "metadata": {},
   "outputs": [
    {
     "name": "stdout",
     "output_type": "stream",
     "text": [
      "1 \n",
      "［세종시문화재단］7월 기획공연 〈명인열전〉\n",
      "\n",
      "2 \n",
      "〈동시상연 2 : 얼굴 없음 NO FACE〉\n",
      "\n",
      "3 \n",
      "2021 명불허전 전주판소리합창단 초청〈판소리＆합창〉 - 대전\n",
      "\n",
      "4 \n",
      "2021 수원전통문화관 명인열전_김수연 명창\n",
      "\n",
      "5 \n",
      "2021 수원전통문화관 명인열전_김일구 명창\n",
      "\n",
      "6 \n",
      "2021 수원전통문화관 명인열전_이난초 명창\n",
      "\n",
      "7 \n",
      "2021 수원전통문화관 명인열전_정회석 명창\n",
      "\n",
      "8 \n",
      "2021 시민국악강좌 〈우리악기 우리음악 - 가야금 이지혜〉\n",
      "\n",
      "9 \n",
      "2021 시민국악강좌 〈우리악기 우리음악 - 거문고 김준영〉\n",
      "\n",
      "10 \n",
      "2021 시민국악강좌 〈우리악기 우리음악 - 대금 정소희〉\n",
      "\n"
     ]
    }
   ],
   "source": [
    "webpage5 = urllib.request.urlopen('http://ticket.interpark.com/TPGoodsList.asp?Ca=Cla&SubCa=KOREA&Sort=3')\n",
    "toptenlist = []\n",
    "Rank =10\n",
    "soup = BeautifulSoup(webpage5, 'html.parser')\n",
    "for topten in soup.find_all('span',\"fw_bold\"):\n",
    "    toptenlist.append(topten.get_text())\n",
    "\n",
    "f = open('국악.csv','w',newline='')\n",
    "for i in range(Rank):\n",
    "    print(i+1, toptenlist[i])\n",
    "    wr = csv.writer(f)\n",
    "    wr.writerow([toptenlist[i]])\n",
    "f.close()"
   ]
  },
  {
   "cell_type": "code",
   "execution_count": 15,
   "metadata": {},
   "outputs": [
    {
     "name": "stdout",
     "output_type": "stream",
     "text": [
      "1 SSG 랜더스 VS LG 트윈스\n",
      "2 두산 베어스 VS 키움 히어로즈\n",
      "3 키움 히어로즈 VS KIA 타이거즈\n",
      "4 두산 베어스 VS 롯데 자이언츠\n",
      "5 키움 히어로즈 VS KIA 타이거즈\n",
      "6 두산 베어스 VS 롯데 자이언츠\n",
      "7 키움 히어로즈 VS KIA 타이거즈\n",
      "8 두산 베어스 VS 롯데 자이언츠\n",
      "9 키움 히어로즈 VS 롯데 자이언츠\n",
      "10 성남 FC VS 강원 FC\n"
     ]
    }
   ],
   "source": [
    "webpage6 = urllib.request.urlopen('https://ticket.interpark.com/Contents/Sports')\n",
    "toptenlist = []\n",
    "Rank = 10\n",
    "soup = BeautifulSoup(webpage6, 'html.parser')\n",
    "for topten in soup.find_all('div',\"matchTeam\"):\n",
    "    toptenlist.append(topten.get_text())\n",
    "\n",
    "f = open('스포츠.csv','w',newline='')\n",
    "for i in range(Rank):\n",
    "    print(i+1, toptenlist[i])\n",
    "    wr = csv.writer(f)\n",
    "    wr.writerow([toptenlist[i]])\n",
    "f.close()"
   ]
  }
 ],
 "metadata": {
  "kernelspec": {
   "display_name": "Python 3",
   "language": "python",
   "name": "python3"
  },
  "language_info": {
   "codemirror_mode": {
    "name": "ipython",
    "version": 3
   },
   "file_extension": ".py",
   "mimetype": "text/x-python",
   "name": "python",
   "nbconvert_exporter": "python",
   "pygments_lexer": "ipython3",
   "version": "3.8.3"
  },
  "toc": {
   "base_numbering": 1,
   "nav_menu": {},
   "number_sections": true,
   "sideBar": true,
   "skip_h1_title": false,
   "title_cell": "Table of Contents",
   "title_sidebar": "Contents",
   "toc_cell": false,
   "toc_position": {},
   "toc_section_display": true,
   "toc_window_display": false
  }
 },
 "nbformat": 4,
 "nbformat_minor": 4
}
